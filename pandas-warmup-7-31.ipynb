{
 "cells": [
  {
   "cell_type": "code",
   "execution_count": 2,
   "id": "3266ec83",
   "metadata": {},
   "outputs": [],
   "source": [
    "import pandas as pd\n",
    "import numpy as np\n",
    "\n",
    "df = pd.read_csv('https://gist.githubusercontent.com/armgilles/194bcff35001e7eb53a2a8b441e8b2c6/raw/92200bc0a673d5ce2110aaad4544ed6c4010f687/pokemon.csv')"
   ]
  },
  {
   "cell_type": "markdown",
   "id": "7d7cdbfa",
   "metadata": {},
   "source": [
    "## Discussion \n",
    "\n",
    "\n",
    "1. What is a dataframe? \n",
    "\n",
    "\n",
    "2. What information can we obtain about a dataframe?\n",
    "\n",
    "\n",
    "3. How have we interacted with a dataframe?\n",
    "\n"
   ]
  },
  {
   "cell_type": "markdown",
   "id": "32017d00",
   "metadata": {},
   "source": []
  },
  {
   "cell_type": "markdown",
   "id": "39ce3b34",
   "metadata": {},
   "source": [
    "---\n",
    "\n",
    "### Practice Exercises\n",
    "\n",
    "\n",
    "#### Information about a dataframe\n",
    "\n",
    "1. Obtain the following information:\n",
    "    \n",
    "    - dimensions\n",
    "    - dtypes\n",
    "    - column names\n",
    "    - summary statistics"
   ]
  },
  {
   "cell_type": "code",
   "execution_count": 3,
   "id": "545c3521",
   "metadata": {},
   "outputs": [
    {
     "name": "stdout",
     "output_type": "stream",
     "text": [
      "#              int64\n",
      "Name          object\n",
      "Type 1        object\n",
      "Type 2        object\n",
      "Total          int64\n",
      "HP             int64\n",
      "Attack         int64\n",
      "Defense        int64\n",
      "Sp. Atk        int64\n",
      "Sp. Def        int64\n",
      "Speed          int64\n",
      "Generation     int64\n",
      "Legendary       bool\n",
      "dtype: object \n",
      "\n",
      "(800, 13) \n",
      "\n",
      "Index(['#', 'Name', 'Type 1', 'Type 2', 'Total', 'HP', 'Attack', 'Defense',\n",
      "       'Sp. Atk', 'Sp. Def', 'Speed', 'Generation', 'Legendary'],\n",
      "      dtype='object') \n",
      "\n"
     ]
    },
    {
     "data": {
      "text/html": [
       "<div>\n",
       "<style scoped>\n",
       "    .dataframe tbody tr th:only-of-type {\n",
       "        vertical-align: middle;\n",
       "    }\n",
       "\n",
       "    .dataframe tbody tr th {\n",
       "        vertical-align: top;\n",
       "    }\n",
       "\n",
       "    .dataframe thead th {\n",
       "        text-align: right;\n",
       "    }\n",
       "</style>\n",
       "<table border=\"1\" class=\"dataframe\">\n",
       "  <thead>\n",
       "    <tr style=\"text-align: right;\">\n",
       "      <th></th>\n",
       "      <th>#</th>\n",
       "      <th>Total</th>\n",
       "      <th>HP</th>\n",
       "      <th>Attack</th>\n",
       "      <th>Defense</th>\n",
       "      <th>Sp. Atk</th>\n",
       "      <th>Sp. Def</th>\n",
       "      <th>Speed</th>\n",
       "      <th>Generation</th>\n",
       "    </tr>\n",
       "  </thead>\n",
       "  <tbody>\n",
       "    <tr>\n",
       "      <th>count</th>\n",
       "      <td>800.000000</td>\n",
       "      <td>800.00000</td>\n",
       "      <td>800.000000</td>\n",
       "      <td>800.000000</td>\n",
       "      <td>800.000000</td>\n",
       "      <td>800.000000</td>\n",
       "      <td>800.000000</td>\n",
       "      <td>800.000000</td>\n",
       "      <td>800.00000</td>\n",
       "    </tr>\n",
       "    <tr>\n",
       "      <th>mean</th>\n",
       "      <td>362.813750</td>\n",
       "      <td>435.10250</td>\n",
       "      <td>69.258750</td>\n",
       "      <td>79.001250</td>\n",
       "      <td>73.842500</td>\n",
       "      <td>72.820000</td>\n",
       "      <td>71.902500</td>\n",
       "      <td>68.277500</td>\n",
       "      <td>3.32375</td>\n",
       "    </tr>\n",
       "    <tr>\n",
       "      <th>std</th>\n",
       "      <td>208.343798</td>\n",
       "      <td>119.96304</td>\n",
       "      <td>25.534669</td>\n",
       "      <td>32.457366</td>\n",
       "      <td>31.183501</td>\n",
       "      <td>32.722294</td>\n",
       "      <td>27.828916</td>\n",
       "      <td>29.060474</td>\n",
       "      <td>1.66129</td>\n",
       "    </tr>\n",
       "    <tr>\n",
       "      <th>min</th>\n",
       "      <td>1.000000</td>\n",
       "      <td>180.00000</td>\n",
       "      <td>1.000000</td>\n",
       "      <td>5.000000</td>\n",
       "      <td>5.000000</td>\n",
       "      <td>10.000000</td>\n",
       "      <td>20.000000</td>\n",
       "      <td>5.000000</td>\n",
       "      <td>1.00000</td>\n",
       "    </tr>\n",
       "    <tr>\n",
       "      <th>25%</th>\n",
       "      <td>184.750000</td>\n",
       "      <td>330.00000</td>\n",
       "      <td>50.000000</td>\n",
       "      <td>55.000000</td>\n",
       "      <td>50.000000</td>\n",
       "      <td>49.750000</td>\n",
       "      <td>50.000000</td>\n",
       "      <td>45.000000</td>\n",
       "      <td>2.00000</td>\n",
       "    </tr>\n",
       "    <tr>\n",
       "      <th>50%</th>\n",
       "      <td>364.500000</td>\n",
       "      <td>450.00000</td>\n",
       "      <td>65.000000</td>\n",
       "      <td>75.000000</td>\n",
       "      <td>70.000000</td>\n",
       "      <td>65.000000</td>\n",
       "      <td>70.000000</td>\n",
       "      <td>65.000000</td>\n",
       "      <td>3.00000</td>\n",
       "    </tr>\n",
       "    <tr>\n",
       "      <th>75%</th>\n",
       "      <td>539.250000</td>\n",
       "      <td>515.00000</td>\n",
       "      <td>80.000000</td>\n",
       "      <td>100.000000</td>\n",
       "      <td>90.000000</td>\n",
       "      <td>95.000000</td>\n",
       "      <td>90.000000</td>\n",
       "      <td>90.000000</td>\n",
       "      <td>5.00000</td>\n",
       "    </tr>\n",
       "    <tr>\n",
       "      <th>max</th>\n",
       "      <td>721.000000</td>\n",
       "      <td>780.00000</td>\n",
       "      <td>255.000000</td>\n",
       "      <td>190.000000</td>\n",
       "      <td>230.000000</td>\n",
       "      <td>194.000000</td>\n",
       "      <td>230.000000</td>\n",
       "      <td>180.000000</td>\n",
       "      <td>6.00000</td>\n",
       "    </tr>\n",
       "  </tbody>\n",
       "</table>\n",
       "</div>"
      ],
      "text/plain": [
       "                #      Total          HP      Attack     Defense     Sp. Atk  \\\n",
       "count  800.000000  800.00000  800.000000  800.000000  800.000000  800.000000   \n",
       "mean   362.813750  435.10250   69.258750   79.001250   73.842500   72.820000   \n",
       "std    208.343798  119.96304   25.534669   32.457366   31.183501   32.722294   \n",
       "min      1.000000  180.00000    1.000000    5.000000    5.000000   10.000000   \n",
       "25%    184.750000  330.00000   50.000000   55.000000   50.000000   49.750000   \n",
       "50%    364.500000  450.00000   65.000000   75.000000   70.000000   65.000000   \n",
       "75%    539.250000  515.00000   80.000000  100.000000   90.000000   95.000000   \n",
       "max    721.000000  780.00000  255.000000  190.000000  230.000000  194.000000   \n",
       "\n",
       "          Sp. Def       Speed  Generation  \n",
       "count  800.000000  800.000000   800.00000  \n",
       "mean    71.902500   68.277500     3.32375  \n",
       "std     27.828916   29.060474     1.66129  \n",
       "min     20.000000    5.000000     1.00000  \n",
       "25%     50.000000   45.000000     2.00000  \n",
       "50%     70.000000   65.000000     3.00000  \n",
       "75%     90.000000   90.000000     5.00000  \n",
       "max    230.000000  180.000000     6.00000  "
      ]
     },
     "execution_count": 3,
     "metadata": {},
     "output_type": "execute_result"
    }
   ],
   "source": [
    "print(df.dtypes,'\\n')\n",
    "print(df.shape,'\\n')\n",
    "print(df.columns,'\\n')\n",
    "df.describe()"
   ]
  },
  {
   "cell_type": "markdown",
   "id": "4c7140c0",
   "metadata": {},
   "source": [
    "#### Working with dataframes\n",
    "\n",
    "1. What is the highest HP value present?\n",
    "\n",
    "    - Create a function named highest_attack.\n",
    "    - Use the loaded dataframe as an argument. "
   ]
  },
  {
   "cell_type": "code",
   "execution_count": 4,
   "id": "745b5c1b",
   "metadata": {},
   "outputs": [
    {
     "data": {
      "text/plain": [
       "190"
      ]
     },
     "execution_count": 4,
     "metadata": {},
     "output_type": "execute_result"
    }
   ],
   "source": [
    "def highest_attack(df):\n",
    "    return df.Attack.max()\n",
    "\n",
    "highest_attack(df)"
   ]
  },
  {
   "cell_type": "markdown",
   "id": "d57df163",
   "metadata": {},
   "source": [
    "2. Which Pokemon possess(es) the highest HP value?"
   ]
  },
  {
   "cell_type": "code",
   "execution_count": 5,
   "id": "60eae031",
   "metadata": {},
   "outputs": [
    {
     "data": {
      "text/plain": [
       "HP\n",
       "255    Blissey\n",
       "Name: Name, dtype: object"
      ]
     },
     "execution_count": 5,
     "metadata": {},
     "output_type": "execute_result"
    }
   ],
   "source": [
    "df.groupby(['HP'])['Name'].max().tail(1)"
   ]
  },
  {
   "cell_type": "markdown",
   "id": "a502e6e7",
   "metadata": {},
   "source": [
    " \n",
    "3. How many different types are represented in Type 1?\n",
    "\n",
    "    - Create a function named num_types\n",
    "    - Use the loaded dataframe as an argument\n",
    "    "
   ]
  },
  {
   "cell_type": "code",
   "execution_count": 6,
   "id": "6eae9f2e",
   "metadata": {},
   "outputs": [
    {
     "data": {
      "text/plain": [
       "18"
      ]
     },
     "execution_count": 6,
     "metadata": {},
     "output_type": "execute_result"
    }
   ],
   "source": [
    "def num_types(df, field_name='Type 1'):\n",
    "    return len(df.groupby(['Type 1'])['Name'].count())\n",
    "\n",
    "num_types(df)"
   ]
  },
  {
   "cell_type": "markdown",
   "id": "779667eb",
   "metadata": {},
   "source": [
    "4. Number of Pokemon whose Type 2 is Ghost"
   ]
  },
  {
   "cell_type": "code",
   "execution_count": 17,
   "id": "5ea46890",
   "metadata": {},
   "outputs": [
    {
     "data": {
      "text/plain": [
       "14"
      ]
     },
     "execution_count": 17,
     "metadata": {},
     "output_type": "execute_result"
    }
   ],
   "source": [
    "def num_types2(df):\n",
    "    return df.groupby(['Type 2'])['Name'].get_group('Ghost').count()\n",
    "\n",
    "num_types2(df)"
   ]
  },
  {
   "cell_type": "markdown",
   "id": "f0b5c4b7",
   "metadata": {},
   "source": [
    "5. Percentage of Pokemon whose Type 2 is Ghost\n",
    "\n",
    "    - Create a function named percent_ghost\n",
    "     - Use the loaded dataframe as an argument"
   ]
  },
  {
   "cell_type": "code",
   "execution_count": 8,
   "id": "40fab6d7",
   "metadata": {},
   "outputs": [
    {
     "data": {
      "text/plain": [
       "#    Name                     Type 1    Type 2  Total  HP   Attack  Defense  Sp. Atk  Sp. Def  Speed  Generation  Legendary\n",
       "130  GyaradosMega Gyarados    Water     Dark    640    95   155     109      70       130      81     1           False        0.05\n",
       "248  Tyranitar                Rock      Dark    600    100  134     110      95       100      61     2           False        0.05\n",
       "675  Pangoro                  Fighting  Dark    495    95   124     78       69       71       58     6           False        0.05\n",
       "658  Greninja                 Water     Dark    530    72   95      67       103      71       122    6           False        0.05\n",
       "553  Krookodile               Ground    Dark    519    95   117     80       65       70       92     5           False        0.05\n",
       "552  Krokorok                 Ground    Dark    351    60   82      45       45       45       74     5           False        0.05\n",
       "551  Sandile                  Ground    Dark    292    50   72      35       35       35       65     5           False        0.05\n",
       "452  Drapion                  Poison    Dark    500    70   90      110      60       75       95     4           False        0.05\n",
       "442  Spiritomb                Ghost     Dark    485    50   92      108      92       108      35     4           False        0.05\n",
       "435  Skuntank                 Poison    Dark    479    103  93      67       71       61       84     4           False        0.05\n",
       "434  Stunky                   Poison    Dark    329    63   63      47       41       41       74     4           False        0.05\n",
       "342  Crawdaunt                Water     Dark    468    63   120     85       90       55       55     3           False        0.05\n",
       "332  Cacturne                 Grass     Dark    475    70   115     60       115      60       55     3           False        0.05\n",
       "319  SharpedoMega Sharpedo    Water     Dark    560    70   140     70       110      65       105    3           False        0.05\n",
       "     Sharpedo                 Water     Dark    460    70   120     40       95       40       95     3           False        0.05\n",
       "318  Carvanha                 Water     Dark    305    45   90      20       65       20       65     3           False        0.05\n",
       "275  Shiftry                  Grass     Dark    480    90   100     60       90       60       80     3           False        0.05\n",
       "274  Nuzleaf                  Grass     Dark    340    70   70      40       60       40       60     3           False        0.05\n",
       "248  TyranitarMega Tyranitar  Rock      Dark    700    100  164     150      95       120      71     2           False        0.05\n",
       "720  HoopaHoopa Unbound       Psychic   Dark    680    80   160     60       170      130      80     6           True         0.05\n",
       "Name: proportion, dtype: float64"
      ]
     },
     "execution_count": 8,
     "metadata": {},
     "output_type": "execute_result"
    }
   ],
   "source": [
    "df[df['Type 2'] == 'Ghost'].value_counts(normalize=True)"
   ]
  },
  {
   "cell_type": "code",
   "execution_count": 23,
   "id": "d68e3b29",
   "metadata": {},
   "outputs": [
    {
     "data": {
      "text/plain": [
       "0"
      ]
     },
     "execution_count": 23,
     "metadata": {},
     "output_type": "execute_result"
    }
   ],
   "source": [
    "def percent_ghost(df):\n",
    "    #return (df['Type 2'].value_counts(normalize=True)/df['Type 2'].count())*100\n",
    "\n",
    "\n",
    "    return round( ((df['Type 2']== 'Ghost').sum() / df.shape[0]\n",
    "               ))\n",
    "percent_ghost(df)"
   ]
  },
  {
   "cell_type": "markdown",
   "id": "65d6de51",
   "metadata": {},
   "source": [
    "6. Number of Pokemon whose Attack is greater than Defense"
   ]
  },
  {
   "cell_type": "code",
   "execution_count": 10,
   "id": "f95affbe",
   "metadata": {},
   "outputs": [
    {
     "data": {
      "text/plain": [
       "433"
      ]
     },
     "execution_count": 10,
     "metadata": {},
     "output_type": "execute_result"
    }
   ],
   "source": [
    "len(df[df['Attack'] > df['Defense']])"
   ]
  },
  {
   "cell_type": "markdown",
   "id": "5f470eae",
   "metadata": {},
   "source": [
    "7. Lowest speed for Grass or Rock"
   ]
  },
  {
   "cell_type": "code",
   "execution_count": 11,
   "id": "04b80722",
   "metadata": {},
   "outputs": [
    {
     "data": {
      "text/html": [
       "<div>\n",
       "<style scoped>\n",
       "    .dataframe tbody tr th:only-of-type {\n",
       "        vertical-align: middle;\n",
       "    }\n",
       "\n",
       "    .dataframe tbody tr th {\n",
       "        vertical-align: top;\n",
       "    }\n",
       "\n",
       "    .dataframe thead th {\n",
       "        text-align: right;\n",
       "    }\n",
       "</style>\n",
       "<table border=\"1\" class=\"dataframe\">\n",
       "  <thead>\n",
       "    <tr style=\"text-align: right;\">\n",
       "      <th></th>\n",
       "      <th>#</th>\n",
       "      <th>Name</th>\n",
       "      <th>Type 1</th>\n",
       "      <th>Type 2</th>\n",
       "      <th>Total</th>\n",
       "      <th>HP</th>\n",
       "      <th>Attack</th>\n",
       "      <th>Defense</th>\n",
       "      <th>Sp. Atk</th>\n",
       "      <th>Sp. Def</th>\n",
       "      <th>Speed</th>\n",
       "      <th>Generation</th>\n",
       "      <th>Legendary</th>\n",
       "    </tr>\n",
       "  </thead>\n",
       "  <tbody>\n",
       "    <tr>\n",
       "      <th>486</th>\n",
       "      <td>438</td>\n",
       "      <td>Bonsly</td>\n",
       "      <td>Rock</td>\n",
       "      <td>NaN</td>\n",
       "      <td>290</td>\n",
       "      <td>50</td>\n",
       "      <td>80</td>\n",
       "      <td>95</td>\n",
       "      <td>10</td>\n",
       "      <td>45</td>\n",
       "      <td>10</td>\n",
       "      <td>4</td>\n",
       "      <td>False</td>\n",
       "    </tr>\n",
       "    <tr>\n",
       "      <th>658</th>\n",
       "      <td>597</td>\n",
       "      <td>Ferroseed</td>\n",
       "      <td>Grass</td>\n",
       "      <td>Steel</td>\n",
       "      <td>305</td>\n",
       "      <td>44</td>\n",
       "      <td>50</td>\n",
       "      <td>91</td>\n",
       "      <td>24</td>\n",
       "      <td>86</td>\n",
       "      <td>10</td>\n",
       "      <td>5</td>\n",
       "      <td>False</td>\n",
       "    </tr>\n",
       "    <tr>\n",
       "      <th>583</th>\n",
       "      <td>524</td>\n",
       "      <td>Roggenrola</td>\n",
       "      <td>Rock</td>\n",
       "      <td>NaN</td>\n",
       "      <td>280</td>\n",
       "      <td>55</td>\n",
       "      <td>75</td>\n",
       "      <td>85</td>\n",
       "      <td>25</td>\n",
       "      <td>25</td>\n",
       "      <td>15</td>\n",
       "      <td>5</td>\n",
       "      <td>False</td>\n",
       "    </tr>\n",
       "    <tr>\n",
       "      <th>651</th>\n",
       "      <td>590</td>\n",
       "      <td>Foongus</td>\n",
       "      <td>Grass</td>\n",
       "      <td>Poison</td>\n",
       "      <td>294</td>\n",
       "      <td>69</td>\n",
       "      <td>55</td>\n",
       "      <td>45</td>\n",
       "      <td>55</td>\n",
       "      <td>55</td>\n",
       "      <td>15</td>\n",
       "      <td>5</td>\n",
       "      <td>False</td>\n",
       "    </tr>\n",
       "    <tr>\n",
       "      <th>584</th>\n",
       "      <td>525</td>\n",
       "      <td>Boldore</td>\n",
       "      <td>Rock</td>\n",
       "      <td>NaN</td>\n",
       "      <td>390</td>\n",
       "      <td>70</td>\n",
       "      <td>105</td>\n",
       "      <td>105</td>\n",
       "      <td>50</td>\n",
       "      <td>40</td>\n",
       "      <td>20</td>\n",
       "      <td>5</td>\n",
       "      <td>False</td>\n",
       "    </tr>\n",
       "    <tr>\n",
       "      <th>...</th>\n",
       "      <td>...</td>\n",
       "      <td>...</td>\n",
       "      <td>...</td>\n",
       "      <td>...</td>\n",
       "      <td>...</td>\n",
       "      <td>...</td>\n",
       "      <td>...</td>\n",
       "      <td>...</td>\n",
       "      <td>...</td>\n",
       "      <td>...</td>\n",
       "      <td>...</td>\n",
       "      <td>...</td>\n",
       "      <td>...</td>\n",
       "    </tr>\n",
       "    <tr>\n",
       "      <th>274</th>\n",
       "      <td>254</td>\n",
       "      <td>Sceptile</td>\n",
       "      <td>Grass</td>\n",
       "      <td>NaN</td>\n",
       "      <td>530</td>\n",
       "      <td>70</td>\n",
       "      <td>85</td>\n",
       "      <td>65</td>\n",
       "      <td>105</td>\n",
       "      <td>85</td>\n",
       "      <td>120</td>\n",
       "      <td>3</td>\n",
       "      <td>False</td>\n",
       "    </tr>\n",
       "    <tr>\n",
       "      <th>551</th>\n",
       "      <td>492</td>\n",
       "      <td>ShayminSky Forme</td>\n",
       "      <td>Grass</td>\n",
       "      <td>Flying</td>\n",
       "      <td>600</td>\n",
       "      <td>100</td>\n",
       "      <td>103</td>\n",
       "      <td>75</td>\n",
       "      <td>120</td>\n",
       "      <td>75</td>\n",
       "      <td>127</td>\n",
       "      <td>4</td>\n",
       "      <td>True</td>\n",
       "    </tr>\n",
       "    <tr>\n",
       "      <th>153</th>\n",
       "      <td>142</td>\n",
       "      <td>Aerodactyl</td>\n",
       "      <td>Rock</td>\n",
       "      <td>Flying</td>\n",
       "      <td>515</td>\n",
       "      <td>80</td>\n",
       "      <td>105</td>\n",
       "      <td>65</td>\n",
       "      <td>60</td>\n",
       "      <td>75</td>\n",
       "      <td>130</td>\n",
       "      <td>1</td>\n",
       "      <td>False</td>\n",
       "    </tr>\n",
       "    <tr>\n",
       "      <th>275</th>\n",
       "      <td>254</td>\n",
       "      <td>SceptileMega Sceptile</td>\n",
       "      <td>Grass</td>\n",
       "      <td>Dragon</td>\n",
       "      <td>630</td>\n",
       "      <td>70</td>\n",
       "      <td>110</td>\n",
       "      <td>75</td>\n",
       "      <td>145</td>\n",
       "      <td>85</td>\n",
       "      <td>145</td>\n",
       "      <td>3</td>\n",
       "      <td>False</td>\n",
       "    </tr>\n",
       "    <tr>\n",
       "      <th>154</th>\n",
       "      <td>142</td>\n",
       "      <td>AerodactylMega Aerodactyl</td>\n",
       "      <td>Rock</td>\n",
       "      <td>Flying</td>\n",
       "      <td>615</td>\n",
       "      <td>80</td>\n",
       "      <td>135</td>\n",
       "      <td>85</td>\n",
       "      <td>70</td>\n",
       "      <td>95</td>\n",
       "      <td>150</td>\n",
       "      <td>1</td>\n",
       "      <td>False</td>\n",
       "    </tr>\n",
       "  </tbody>\n",
       "</table>\n",
       "<p>114 rows × 13 columns</p>\n",
       "</div>"
      ],
      "text/plain": [
       "       #                       Name Type 1  Type 2  Total   HP  Attack  \\\n",
       "486  438                     Bonsly   Rock     NaN    290   50      80   \n",
       "658  597                  Ferroseed  Grass   Steel    305   44      50   \n",
       "583  524                 Roggenrola   Rock     NaN    280   55      75   \n",
       "651  590                    Foongus  Grass  Poison    294   69      55   \n",
       "584  525                    Boldore   Rock     NaN    390   70     105   \n",
       "..   ...                        ...    ...     ...    ...  ...     ...   \n",
       "274  254                   Sceptile  Grass     NaN    530   70      85   \n",
       "551  492           ShayminSky Forme  Grass  Flying    600  100     103   \n",
       "153  142                 Aerodactyl   Rock  Flying    515   80     105   \n",
       "275  254      SceptileMega Sceptile  Grass  Dragon    630   70     110   \n",
       "154  142  AerodactylMega Aerodactyl   Rock  Flying    615   80     135   \n",
       "\n",
       "     Defense  Sp. Atk  Sp. Def  Speed  Generation  Legendary  \n",
       "486       95       10       45     10           4      False  \n",
       "658       91       24       86     10           5      False  \n",
       "583       85       25       25     15           5      False  \n",
       "651       45       55       55     15           5      False  \n",
       "584      105       50       40     20           5      False  \n",
       "..       ...      ...      ...    ...         ...        ...  \n",
       "274       65      105       85    120           3      False  \n",
       "551       75      120       75    127           4       True  \n",
       "153       65       60       75    130           1      False  \n",
       "275       75      145       85    145           3      False  \n",
       "154       85       70       95    150           1      False  \n",
       "\n",
       "[114 rows x 13 columns]"
      ]
     },
     "execution_count": 11,
     "metadata": {},
     "output_type": "execute_result"
    }
   ],
   "source": [
    "df[df['Type 1'].str.contains('Rock|Grass', regex=True)].sort_values('Speed')"
   ]
  }
 ],
 "metadata": {
  "kernelspec": {
   "display_name": "Python 3 (ipykernel)",
   "language": "python",
   "name": "python3"
  },
  "language_info": {
   "codemirror_mode": {
    "name": "ipython",
    "version": 3
   },
   "file_extension": ".py",
   "mimetype": "text/x-python",
   "name": "python",
   "nbconvert_exporter": "python",
   "pygments_lexer": "ipython3",
   "version": "3.11.4"
  }
 },
 "nbformat": 4,
 "nbformat_minor": 5
}
