{
 "cells": [
  {
   "cell_type": "markdown",
   "id": "f27ef46d",
   "metadata": {},
   "source": [
    "# Numpy"
   ]
  },
  {
   "cell_type": "markdown",
   "id": "b81324d7",
   "metadata": {},
   "source": [
    "https://numpy.org/"
   ]
  },
  {
   "cell_type": "markdown",
   "id": "25a9ba1c",
   "metadata": {},
   "source": [
    "## What is it? \n",
    "- Numpy is a Python library used for working with arrays\n",
    "- Numpy is the fundamental package for scientific computing in Python\n",
    "\n",
    "\n",
    "## Why do we care? \n",
    "- Numpy is one of the main reasons why Python is so powerful and popular for scientific computing\n",
    "- Super fast. Numpy arrays are implemented in C, which makes numpy very fast.\n",
    "- The arrays allows for vectorized operations"
   ]
  },
  {
   "cell_type": "markdown",
   "id": "28729cf1",
   "metadata": {},
   "source": [
    "## Show us! "
   ]
  },
  {
   "cell_type": "markdown",
   "id": "e2d18e84",
   "metadata": {},
   "source": [
    "### Create a 1D array"
   ]
  },
  {
   "cell_type": "markdown",
   "id": "4bd6c942",
   "metadata": {},
   "source": [
    "#### create a list\n",
    "format: list()"
   ]
  },
  {
   "cell_type": "code",
   "execution_count": 1,
   "id": "919b511c",
   "metadata": {},
   "outputs": [],
   "source": [
    "#create a list\n",
    "my_list = ['apple', 'banana', 'peach', 'plum']"
   ]
  },
  {
   "cell_type": "code",
   "execution_count": 2,
   "id": "842c5167",
   "metadata": {},
   "outputs": [
    {
     "data": {
      "text/plain": [
       "'apple'"
      ]
     },
     "execution_count": 2,
     "metadata": {},
     "output_type": "execute_result"
    }
   ],
   "source": [
    "\n",
    "my_list[0]\n"
   ]
  },
  {
   "cell_type": "code",
   "execution_count": 3,
   "id": "a2e3be73",
   "metadata": {},
   "outputs": [
    {
     "data": {
      "text/plain": [
       "['banana', 'peach', 'plum']"
      ]
     },
     "execution_count": 3,
     "metadata": {},
     "output_type": "execute_result"
    }
   ],
   "source": [
    "my_list[1:]\n"
   ]
  },
  {
   "cell_type": "code",
   "execution_count": 4,
   "id": "2bb1ce81",
   "metadata": {},
   "outputs": [],
   "source": [
    "\n",
    "added_string = 'my favorite fruit is: '"
   ]
  },
  {
   "cell_type": "code",
   "execution_count": 6,
   "id": "d262d628",
   "metadata": {},
   "outputs": [
    {
     "data": {
      "text/plain": [
       "['my favorite fruit is: apple',\n",
       " 'my favorite fruit is: banana',\n",
       " 'my favorite fruit is: peach',\n",
       " 'my favorite fruit is: plum']"
      ]
     },
     "execution_count": 6,
     "metadata": {},
     "output_type": "execute_result"
    }
   ],
   "source": [
    "[added_string + fruit for fruit in my_list]\n",
    "\n",
    "#alternate is for loop\n",
    "\n",
    "for fruit in my_list:"
   ]
  },
  {
   "cell_type": "code",
   "execution_count": 13,
   "id": "f6c08277",
   "metadata": {},
   "outputs": [],
   "source": [
    "#whats the type\n",
    "type(my_list)\n",
    "my_list = [1, 2, 3, 4]"
   ]
  },
  {
   "cell_type": "code",
   "execution_count": 12,
   "id": "5c3e939b",
   "metadata": {},
   "outputs": [
    {
     "name": "stdout",
     "output_type": "stream",
     "text": [
      "<class 'str'>\n",
      "<class 'str'>\n",
      "<class 'str'>\n",
      "<class 'str'>\n"
     ]
    }
   ],
   "source": [
    "for i in my_list:\n",
    "    print(type(i))"
   ]
  },
  {
   "cell_type": "code",
   "execution_count": null,
   "id": "9424429b",
   "metadata": {},
   "outputs": [],
   "source": [
    "#what is dtype"
   ]
  },
  {
   "cell_type": "code",
   "execution_count": 14,
   "id": "e62c3c0d",
   "metadata": {},
   "outputs": [
    {
     "data": {
      "text/plain": [
       "4"
      ]
     },
     "execution_count": 14,
     "metadata": {},
     "output_type": "execute_result"
    }
   ],
   "source": [
    "#whats the shape\n",
    "len(my_list)"
   ]
  },
  {
   "cell_type": "code",
   "execution_count": 55,
   "id": "6107b874",
   "metadata": {},
   "outputs": [],
   "source": [
    "my_second_list = [\n",
    "    [1, 2, 3],\n",
    "    [4, 5, 6],\n",
    "    [7, 8, 9]\n",
    "]"
   ]
  },
  {
   "cell_type": "code",
   "execution_count": 16,
   "id": "42e5c637",
   "metadata": {},
   "outputs": [
    {
     "data": {
      "text/plain": [
       "3"
      ]
     },
     "execution_count": 16,
     "metadata": {},
     "output_type": "execute_result"
    }
   ],
   "source": [
    "len(my_second_list)"
   ]
  },
  {
   "cell_type": "code",
   "execution_count": 17,
   "id": "63536196",
   "metadata": {},
   "outputs": [
    {
     "name": "stdout",
     "output_type": "stream",
     "text": [
      "3\n",
      "3\n",
      "3\n"
     ]
    }
   ],
   "source": [
    "for little_list in my_second_list:\n",
    "    print(len(little_list))"
   ]
  },
  {
   "cell_type": "markdown",
   "id": "14284603",
   "metadata": {},
   "source": [
    "#### create an array\n",
    "format: np.array()"
   ]
  },
  {
   "cell_type": "code",
   "execution_count": 18,
   "id": "2bd38cf2",
   "metadata": {},
   "outputs": [],
   "source": [
    "# importing numpy\n",
    "import numpy as np"
   ]
  },
  {
   "cell_type": "code",
   "execution_count": 73,
   "id": "206318a6",
   "metadata": {},
   "outputs": [
    {
     "data": {
      "text/plain": [
       "numpy.ndarray"
      ]
     },
     "execution_count": 73,
     "metadata": {},
     "output_type": "execute_result"
    }
   ],
   "source": [
    "#create the array\n",
    "#np.array?\n",
    "\n",
    "my_array = np.array(my_list)\n",
    "type(my_array)"
   ]
  },
  {
   "cell_type": "code",
   "execution_count": 47,
   "id": "9e0eb033",
   "metadata": {},
   "outputs": [
    {
     "data": {
      "text/plain": [
       "4"
      ]
     },
     "execution_count": 47,
     "metadata": {},
     "output_type": "execute_result"
    }
   ],
   "source": [
    "#create the array (from the contents of the list)\n",
    "len(my_array)"
   ]
  },
  {
   "cell_type": "code",
   "execution_count": 48,
   "id": "3ec6ab1b",
   "metadata": {},
   "outputs": [
    {
     "data": {
      "text/plain": [
       "numpy.ndarray"
      ]
     },
     "execution_count": 48,
     "metadata": {},
     "output_type": "execute_result"
    }
   ],
   "source": [
    "#whats the type\n",
    "type(my_array)"
   ]
  },
  {
   "cell_type": "code",
   "execution_count": 49,
   "id": "5ee6331e",
   "metadata": {},
   "outputs": [
    {
     "data": {
      "text/plain": [
       "(4,)"
      ]
     },
     "execution_count": 49,
     "metadata": {},
     "output_type": "execute_result"
    }
   ],
   "source": [
    "#whats the shape\n",
    "my_array.shape"
   ]
  },
  {
   "cell_type": "code",
   "execution_count": 50,
   "id": "8d9a67c3",
   "metadata": {},
   "outputs": [
    {
     "data": {
      "text/plain": [
       "dtype('int64')"
      ]
     },
     "execution_count": 50,
     "metadata": {},
     "output_type": "execute_result"
    }
   ],
   "source": [
    "#dtype\n",
    "my_array.dtype\n"
   ]
  },
  {
   "cell_type": "markdown",
   "id": "0c677244",
   "metadata": {},
   "source": [
    "#### access elements of our new array"
   ]
  },
  {
   "cell_type": "markdown",
   "id": "2079c7c4",
   "metadata": {},
   "source": [
    "#### slice the array"
   ]
  },
  {
   "cell_type": "code",
   "execution_count": 51,
   "id": "38f4f76b",
   "metadata": {},
   "outputs": [
    {
     "data": {
      "text/plain": [
       "(3, 3)"
      ]
     },
     "execution_count": 51,
     "metadata": {},
     "output_type": "execute_result"
    }
   ],
   "source": [
    "np.array(my_second_list).shape\n",
    "#indexing my_array will be similar to the way we index a list"
   ]
  },
  {
   "cell_type": "code",
   "execution_count": 52,
   "id": "53c416d9",
   "metadata": {},
   "outputs": [
    {
     "data": {
      "text/plain": [
       "1"
      ]
     },
     "execution_count": 52,
     "metadata": {},
     "output_type": "execute_result"
    }
   ],
   "source": [
    "my_array[0]"
   ]
  },
  {
   "cell_type": "code",
   "execution_count": 53,
   "id": "bb7608cd",
   "metadata": {},
   "outputs": [
    {
     "data": {
      "text/plain": [
       "array([2, 3])"
      ]
     },
     "execution_count": 53,
     "metadata": {},
     "output_type": "execute_result"
    }
   ],
   "source": [
    "my_array[1:3]"
   ]
  },
  {
   "cell_type": "code",
   "execution_count": 35,
   "id": "bd8e9a94",
   "metadata": {},
   "outputs": [
    {
     "data": {
      "text/plain": [
       "array([1, 2, 3])"
      ]
     },
     "execution_count": 35,
     "metadata": {},
     "output_type": "execute_result"
    }
   ],
   "source": [
    "my_array[:-1]"
   ]
  },
  {
   "cell_type": "markdown",
   "id": "14841d0f",
   "metadata": {},
   "source": [
    "#### create an array from 1 to 100"
   ]
  },
  {
   "cell_type": "code",
   "execution_count": 54,
   "id": "6a833fd0",
   "metadata": {},
   "outputs": [],
   "source": [
    "my_100 = np.array(range(1,101))"
   ]
  },
  {
   "cell_type": "code",
   "execution_count": 38,
   "id": "6c4bf33b",
   "metadata": {},
   "outputs": [
    {
     "data": {
      "text/plain": [
       "array([  1,   2,   3,   4,   5,   6,   7,   8,   9,  10,  11,  12,  13,\n",
       "        14,  15,  16,  17,  18,  19,  20,  21,  22,  23,  24,  25,  26,\n",
       "        27,  28,  29,  30,  31,  32,  33,  34,  35,  36,  37,  38,  39,\n",
       "        40,  41,  42,  43,  44,  45,  46,  47,  48,  49,  50,  51,  52,\n",
       "        53,  54,  55,  56,  57,  58,  59,  60,  61,  62,  63,  64,  65,\n",
       "        66,  67,  68,  69,  70,  71,  72,  73,  74,  75,  76,  77,  78,\n",
       "        79,  80,  81,  82,  83,  84,  85,  86,  87,  88,  89,  90,  91,\n",
       "        92,  93,  94,  95,  96,  97,  98,  99, 100])"
      ]
     },
     "execution_count": 38,
     "metadata": {},
     "output_type": "execute_result"
    }
   ],
   "source": [
    "my_100"
   ]
  },
  {
   "cell_type": "markdown",
   "id": "986db7a5",
   "metadata": {},
   "source": [
    "### Create a 2D array"
   ]
  },
  {
   "cell_type": "code",
   "execution_count": 72,
   "id": "6629b0c9",
   "metadata": {},
   "outputs": [
    {
     "data": {
      "text/plain": [
       "numpy.ndarray"
      ]
     },
     "execution_count": 72,
     "metadata": {},
     "output_type": "execute_result"
    }
   ],
   "source": [
    "#type\n",
    "my_2d_array = [[1, 2, 3],\n",
    "       [4, 5, 6],\n",
    "       [7, 8, 9]]\n",
    "my_2d_array = np.array(my_2d_array)\n",
    "type(my_2d_array)\n"
   ]
  },
  {
   "cell_type": "code",
   "execution_count": 58,
   "id": "77a35521",
   "metadata": {},
   "outputs": [
    {
     "data": {
      "text/plain": [
       "3"
      ]
     },
     "execution_count": 58,
     "metadata": {},
     "output_type": "execute_result"
    }
   ],
   "source": [
    "my_2d_array[0][2]"
   ]
  },
  {
   "cell_type": "code",
   "execution_count": 63,
   "id": "eb29dd2a",
   "metadata": {},
   "outputs": [
    {
     "data": {
      "text/plain": [
       "array([4, 5, 6])"
      ]
     },
     "execution_count": 63,
     "metadata": {},
     "output_type": "execute_result"
    }
   ],
   "source": [
    "# first half of indexing array will be for rows, other side will be for columns\n",
    "#1,: or anything following a comma will pull the whole row or column\n",
    "my_2d_array[1,:]"
   ]
  },
  {
   "cell_type": "code",
   "execution_count": null,
   "id": "2932165c",
   "metadata": {},
   "outputs": [],
   "source": [
    "#type\n"
   ]
  },
  {
   "cell_type": "code",
   "execution_count": null,
   "id": "c6bb7e03",
   "metadata": {},
   "outputs": [],
   "source": []
  },
  {
   "cell_type": "code",
   "execution_count": null,
   "id": "b62ee3e7",
   "metadata": {},
   "outputs": [],
   "source": []
  },
  {
   "cell_type": "markdown",
   "id": "a30948e1",
   "metadata": {},
   "source": [
    "#### access elements"
   ]
  },
  {
   "cell_type": "code",
   "execution_count": null,
   "id": "5c34c287",
   "metadata": {},
   "outputs": [],
   "source": []
  },
  {
   "cell_type": "code",
   "execution_count": null,
   "id": "5292fc7e",
   "metadata": {},
   "outputs": [],
   "source": []
  },
  {
   "cell_type": "code",
   "execution_count": null,
   "id": "569f3911",
   "metadata": {},
   "outputs": [],
   "source": []
  },
  {
   "cell_type": "code",
   "execution_count": null,
   "id": "584be2b5",
   "metadata": {},
   "outputs": [],
   "source": []
  },
  {
   "cell_type": "code",
   "execution_count": null,
   "id": "b552b94b",
   "metadata": {},
   "outputs": [],
   "source": []
  },
  {
   "cell_type": "code",
   "execution_count": null,
   "id": "cef43099",
   "metadata": {},
   "outputs": [],
   "source": []
  },
  {
   "cell_type": "markdown",
   "id": "935d5cb4",
   "metadata": {},
   "source": [
    "### Descriptive Stats"
   ]
  },
  {
   "cell_type": "code",
   "execution_count": null,
   "id": "e5885133",
   "metadata": {},
   "outputs": [],
   "source": [
    "#pulling back my big array from 1 - 100\n"
   ]
  },
  {
   "cell_type": "markdown",
   "id": "a2e09f03",
   "metadata": {},
   "source": [
    "#### using methods: the method is called on the numpy object\n",
    "format: object.method()"
   ]
  },
  {
   "cell_type": "code",
   "execution_count": null,
   "id": "b0d499e1",
   "metadata": {},
   "outputs": [],
   "source": []
  },
  {
   "cell_type": "code",
   "execution_count": null,
   "id": "e3aba787",
   "metadata": {},
   "outputs": [],
   "source": []
  },
  {
   "cell_type": "code",
   "execution_count": null,
   "id": "f4ffbe68",
   "metadata": {},
   "outputs": [],
   "source": []
  },
  {
   "cell_type": "code",
   "execution_count": null,
   "id": "a7462189",
   "metadata": {},
   "outputs": [],
   "source": []
  },
  {
   "cell_type": "code",
   "execution_count": null,
   "id": "8f7c042f",
   "metadata": {},
   "outputs": [],
   "source": []
  },
  {
   "cell_type": "code",
   "execution_count": null,
   "id": "d398e54e",
   "metadata": {},
   "outputs": [],
   "source": []
  },
  {
   "cell_type": "markdown",
   "id": "9db0e64b",
   "metadata": {},
   "source": [
    "#### using functions: using numpy to call functions\n",
    "np.function(object)"
   ]
  },
  {
   "cell_type": "code",
   "execution_count": null,
   "id": "28de364c",
   "metadata": {},
   "outputs": [],
   "source": []
  },
  {
   "cell_type": "code",
   "execution_count": null,
   "id": "06bd0268",
   "metadata": {},
   "outputs": [],
   "source": []
  },
  {
   "cell_type": "code",
   "execution_count": null,
   "id": "9b831c67",
   "metadata": {},
   "outputs": [],
   "source": []
  },
  {
   "cell_type": "code",
   "execution_count": null,
   "id": "b30fb11d",
   "metadata": {},
   "outputs": [],
   "source": []
  },
  {
   "cell_type": "code",
   "execution_count": null,
   "id": "e274165f",
   "metadata": {},
   "outputs": [],
   "source": []
  },
  {
   "cell_type": "code",
   "execution_count": null,
   "id": "42e4fbec",
   "metadata": {},
   "outputs": [],
   "source": []
  },
  {
   "cell_type": "markdown",
   "id": "87116e79",
   "metadata": {},
   "source": [
    "### Array of Booleans! "
   ]
  },
  {
   "cell_type": "markdown",
   "id": "61f9e819",
   "metadata": {},
   "source": [
    "### Boolean Masks"
   ]
  },
  {
   "cell_type": "markdown",
   "id": "dfe35c0b",
   "metadata": {},
   "source": [
    "1. create an array\n",
    "2. make a list of booleans (mask)\n",
    "3. combine\n",
    "\n",
    "    format: array [ list of booleans ] "
   ]
  },
  {
   "cell_type": "code",
   "execution_count": null,
   "id": "57b02398",
   "metadata": {},
   "outputs": [],
   "source": [
    "#pull back our small array\n",
    "my_array\n",
    "# if listed\n",
    "# thing for thing in my_100 if thing > 10"
   ]
  },
  {
   "cell_type": "code",
   "execution_count": 77,
   "id": "117a0cdb",
   "metadata": {},
   "outputs": [
    {
     "data": {
      "text/plain": [
       "array([ 11,  12,  13,  14,  15,  16,  17,  18,  19,  20,  21,  22,  23,\n",
       "        24,  25,  26,  27,  28,  29,  30,  31,  32,  33,  34,  35,  36,\n",
       "        37,  38,  39,  40,  41,  42,  43,  44,  45,  46,  47,  48,  49,\n",
       "        50,  51,  52,  53,  54,  55,  56,  57,  58,  59,  60,  61,  62,\n",
       "        63,  64,  65,  66,  67,  68,  69,  70,  71,  72,  73,  74,  75,\n",
       "        76,  77,  78,  79,  80,  81,  82,  83,  84,  85,  86,  87,  88,\n",
       "        89,  90,  91,  92,  93,  94,  95,  96,  97,  98,  99, 100])"
      ]
     },
     "execution_count": 77,
     "metadata": {},
     "output_type": "execute_result"
    }
   ],
   "source": [
    "#make list of booleans aka our mask\n",
    "my_over_ten_mask = my_100 > 10\n",
    "\n",
    "# [ ] will now serve as a 'WHERE' condition\n",
    "\n",
    "my_100[my_over_ten_mask]\n",
    "\n",
    "# prints exclusively true values for boolean mask"
   ]
  },
  {
   "cell_type": "code",
   "execution_count": 80,
   "id": "11cac65c",
   "metadata": {},
   "outputs": [
    {
     "data": {
      "text/plain": [
       "array([2, 4])"
      ]
     },
     "execution_count": 80,
     "metadata": {},
     "output_type": "execute_result"
    }
   ],
   "source": [
    "# can be done with no variable:\n",
    "# even elements in my array:\n",
    "my_array[my_array % 2 == 0]"
   ]
  },
  {
   "cell_type": "code",
   "execution_count": null,
   "id": "d5fd35ca",
   "metadata": {},
   "outputs": [],
   "source": [
    "#working with multiple conditions and limitations\n",
    "\n",
    "my_array[(my_array % 2 == 0 ) and (my_array < 3)]\n",
    "\n",
    "\n"
   ]
  },
  {
   "cell_type": "markdown",
   "id": "091b2ee7",
   "metadata": {},
   "source": [
    "> only return values that are true. this is known as boolean masking"
   ]
  },
  {
   "cell_type": "markdown",
   "id": "31eaff9d",
   "metadata": {},
   "source": [
    "#### how else can we get our array of boolean values?"
   ]
  },
  {
   "cell_type": "code",
   "execution_count": 84,
   "id": "95bf95d3",
   "metadata": {},
   "outputs": [
    {
     "data": {
      "text/plain": [
       "array([2])"
      ]
     },
     "execution_count": 84,
     "metadata": {},
     "output_type": "execute_result"
    }
   ],
   "source": [
    "# can be accomplished with ' & ' operator\n",
    "\n",
    "my_array[(my_array % 2 == 0 ) & (my_array < 3)]\n"
   ]
  },
  {
   "cell_type": "code",
   "execution_count": 83,
   "id": "fe83d33a",
   "metadata": {},
   "outputs": [
    {
     "data": {
      "text/plain": [
       "array([1, 2, 4])"
      ]
     },
     "execution_count": 83,
     "metadata": {},
     "output_type": "execute_result"
    }
   ],
   "source": [
    "# OR operand can be expressed with ' | '\n",
    "\n",
    "my_array[(my_array % 2 == 0 ) | (my_array < 3)]\n"
   ]
  },
  {
   "cell_type": "code",
   "execution_count": 88,
   "id": "280e8fb0",
   "metadata": {},
   "outputs": [
    {
     "data": {
      "text/plain": [
       "array([[ 6,  7,  8],\n",
       "       [ 9, 10, 11],\n",
       "       [12, 13, 14]])"
      ]
     },
     "execution_count": 88,
     "metadata": {},
     "output_type": "execute_result"
    }
   ],
   "source": [
    "# using loops to iterate over arrays\n",
    "\n",
    "# my_second_list + 5\n",
    "# breaks\n",
    "\n",
    "my_2d_array + 5"
   ]
  },
  {
   "cell_type": "code",
   "execution_count": 90,
   "id": "44de80b3",
   "metadata": {},
   "outputs": [
    {
     "data": {
      "text/plain": [
       "array([], dtype=int64)"
      ]
     },
     "execution_count": 90,
     "metadata": {},
     "output_type": "execute_result"
    }
   ],
   "source": [
    "# all false in operand returns an empty array\n",
    "my_2d_array[(my_2d_array + 5) < 6]"
   ]
  },
  {
   "cell_type": "code",
   "execution_count": 98,
   "id": "fe848995",
   "metadata": {},
   "outputs": [
    {
     "ename": "AttributeError",
     "evalue": "type object 'list' has no attribute 'x'",
     "output_type": "error",
     "traceback": [
      "\u001b[0;31m---------------------------------------------------------------------------\u001b[0m",
      "\u001b[0;31mAttributeError\u001b[0m                            Traceback (most recent call last)",
      "Cell \u001b[0;32mIn[98], line 6\u001b[0m\n\u001b[1;32m      4\u001b[0m new_list \u001b[39m=\u001b[39m []\n\u001b[1;32m      5\u001b[0m \u001b[39mfor\u001b[39;00m x \u001b[39min\u001b[39;00m \u001b[39mlist\u001b[39m(my_2d_array):\n\u001b[0;32m----> 6\u001b[0m     new_list\u001b[39m.\u001b[39mappend((\u001b[39mlist\u001b[39;49m\u001b[39m.\u001b[39;49mx))\n\u001b[1;32m      8\u001b[0m \u001b[39mprint\u001b[39m(new_list)\n",
      "\u001b[0;31mAttributeError\u001b[0m: type object 'list' has no attribute 'x'"
     ]
    }
   ],
   "source": [
    "# can it be converted back to list?\n",
    "#returns a list of arrays\n",
    "list(my_2d_array)\n",
    "new_list = []\n",
    "for x in list(my_2d_array):\n",
    "    new_list.append((list.x))\n",
    "\n",
    "print(new_list)"
   ]
  },
  {
   "cell_type": "code",
   "execution_count": 101,
   "id": "12ac25e1",
   "metadata": {},
   "outputs": [
    {
     "name": "stdout",
     "output_type": "stream",
     "text": [
      "[2, 3, 4, 5]\n"
     ]
    }
   ],
   "source": [
    "my_list_plus_one = []\n",
    "for i in my_list:\n",
    "    my_list_plus_one.append(i+1)\n",
    "print(my_list_plus_one)\n"
   ]
  },
  {
   "cell_type": "code",
   "execution_count": 100,
   "id": "a917b625",
   "metadata": {},
   "outputs": [
    {
     "data": {
      "text/plain": [
       "array([2, 3, 4, 5])"
      ]
     },
     "execution_count": 100,
     "metadata": {},
     "output_type": "execute_result"
    }
   ],
   "source": [
    "my_array + 1"
   ]
  },
  {
   "cell_type": "code",
   "execution_count": 103,
   "id": "8218fdbb",
   "metadata": {},
   "outputs": [
    {
     "name": "stderr",
     "output_type": "stream",
     "text": [
      "UsageError: %%timeit is a cell magic, but the cell body is empty. Did you mean the line magic %timeit (single %)?\n"
     ]
    }
   ],
   "source": [
    "%%timeit"
   ]
  },
  {
   "cell_type": "code",
   "execution_count": 104,
   "id": "4061a07a",
   "metadata": {},
   "outputs": [],
   "source": [
    "# format of numbers to remain int can use ' _ ' instead of ' , '\n",
    "\n",
    "big_array = np.array(range(0,1_000_001))"
   ]
  },
  {
   "cell_type": "markdown",
   "id": "b751df42",
   "metadata": {},
   "source": [
    "#### what about with multiple conditions?"
   ]
  },
  {
   "cell_type": "code",
   "execution_count": 105,
   "id": "ba375d00",
   "metadata": {},
   "outputs": [
    {
     "data": {
      "text/plain": [
       "array([                  0,                   1,                   8, ...,\n",
       "        999994000011999992,  999997000002999999, 1000000000000000000])"
      ]
     },
     "execution_count": 105,
     "metadata": {},
     "output_type": "execute_result"
    }
   ],
   "source": [
    "big_array ** 3\n",
    "# using"
   ]
  },
  {
   "cell_type": "code",
   "execution_count": null,
   "id": "9b8a963f",
   "metadata": {},
   "outputs": [],
   "source": []
  },
  {
   "cell_type": "code",
   "execution_count": null,
   "id": "af50def8",
   "metadata": {},
   "outputs": [],
   "source": []
  },
  {
   "cell_type": "markdown",
   "id": "39cc5e0b",
   "metadata": {},
   "source": [
    "#### do it with a matrix!"
   ]
  },
  {
   "cell_type": "code",
   "execution_count": null,
   "id": "3c42cdf4",
   "metadata": {},
   "outputs": [],
   "source": []
  },
  {
   "cell_type": "code",
   "execution_count": null,
   "id": "7082cadd",
   "metadata": {},
   "outputs": [],
   "source": []
  },
  {
   "cell_type": "code",
   "execution_count": null,
   "id": "92f81004",
   "metadata": {},
   "outputs": [],
   "source": []
  },
  {
   "cell_type": "markdown",
   "id": "6e6365e8",
   "metadata": {},
   "source": [
    "#### cool! can we just do it with a list instead of an array?"
   ]
  },
  {
   "cell_type": "code",
   "execution_count": null,
   "id": "f055415f",
   "metadata": {},
   "outputs": [],
   "source": []
  },
  {
   "cell_type": "code",
   "execution_count": null,
   "id": "1bbf0365",
   "metadata": {},
   "outputs": [],
   "source": []
  },
  {
   "cell_type": "code",
   "execution_count": null,
   "id": "a05cd733",
   "metadata": {},
   "outputs": [],
   "source": []
  },
  {
   "cell_type": "code",
   "execution_count": null,
   "id": "cd24b42c",
   "metadata": {},
   "outputs": [],
   "source": []
  },
  {
   "cell_type": "markdown",
   "id": "7b5bcb42",
   "metadata": {},
   "source": [
    "#### let's bring it back to arrays and make them bigger"
   ]
  },
  {
   "cell_type": "code",
   "execution_count": null,
   "id": "62f6abfe",
   "metadata": {},
   "outputs": [],
   "source": []
  },
  {
   "cell_type": "code",
   "execution_count": null,
   "id": "893e651a",
   "metadata": {},
   "outputs": [],
   "source": []
  },
  {
   "cell_type": "code",
   "execution_count": null,
   "id": "6bec10e8",
   "metadata": {},
   "outputs": [],
   "source": []
  },
  {
   "cell_type": "markdown",
   "id": "0bf17887",
   "metadata": {},
   "source": [
    "#### what if the numbers are out of order?"
   ]
  },
  {
   "cell_type": "code",
   "execution_count": null,
   "id": "0e2b7f11",
   "metadata": {},
   "outputs": [],
   "source": []
  },
  {
   "cell_type": "code",
   "execution_count": null,
   "id": "72993daa",
   "metadata": {},
   "outputs": [],
   "source": []
  },
  {
   "cell_type": "code",
   "execution_count": null,
   "id": "69a01c26",
   "metadata": {},
   "outputs": [],
   "source": []
  },
  {
   "cell_type": "markdown",
   "id": "1570584a",
   "metadata": {},
   "source": [
    "> still works!"
   ]
  },
  {
   "cell_type": "markdown",
   "id": "5f920363",
   "metadata": {},
   "source": [
    "#### shortcut?"
   ]
  },
  {
   "cell_type": "code",
   "execution_count": null,
   "id": "1a4f7494",
   "metadata": {},
   "outputs": [],
   "source": []
  },
  {
   "cell_type": "markdown",
   "id": "35601d8b",
   "metadata": {},
   "source": [
    "#### what if you put something that was all false, what would it return?"
   ]
  },
  {
   "cell_type": "code",
   "execution_count": null,
   "id": "b5279c3e",
   "metadata": {},
   "outputs": [],
   "source": []
  },
  {
   "cell_type": "code",
   "execution_count": null,
   "id": "d29657d2",
   "metadata": {},
   "outputs": [],
   "source": []
  },
  {
   "cell_type": "markdown",
   "id": "f761ae25",
   "metadata": {},
   "source": [
    "> an empty array"
   ]
  },
  {
   "cell_type": "markdown",
   "id": "edf34dac",
   "metadata": {},
   "source": [
    "#### what if we wanted to check two conditions?"
   ]
  },
  {
   "cell_type": "code",
   "execution_count": null,
   "id": "dc0158f3",
   "metadata": {},
   "outputs": [],
   "source": []
  },
  {
   "cell_type": "code",
   "execution_count": null,
   "id": "eaa2e109",
   "metadata": {},
   "outputs": [],
   "source": []
  },
  {
   "cell_type": "code",
   "execution_count": null,
   "id": "a44074b6",
   "metadata": {},
   "outputs": [],
   "source": []
  },
  {
   "cell_type": "markdown",
   "id": "9d8b88c9",
   "metadata": {},
   "source": [
    "#### can we convert our arrays back to lists?"
   ]
  },
  {
   "cell_type": "code",
   "execution_count": null,
   "id": "814ad81c",
   "metadata": {},
   "outputs": [],
   "source": []
  },
  {
   "cell_type": "code",
   "execution_count": null,
   "id": "53c98545",
   "metadata": {},
   "outputs": [],
   "source": []
  },
  {
   "cell_type": "code",
   "execution_count": null,
   "id": "110b413f",
   "metadata": {},
   "outputs": [],
   "source": []
  },
  {
   "cell_type": "markdown",
   "id": "8299df12",
   "metadata": {},
   "source": [
    "#### what if we wanted the opposite of our mask?"
   ]
  },
  {
   "cell_type": "code",
   "execution_count": null,
   "id": "83a6ea35",
   "metadata": {},
   "outputs": [],
   "source": []
  },
  {
   "cell_type": "code",
   "execution_count": null,
   "id": "e7477e3a",
   "metadata": {},
   "outputs": [],
   "source": []
  },
  {
   "cell_type": "code",
   "execution_count": null,
   "id": "8b8c4952",
   "metadata": {},
   "outputs": [],
   "source": []
  },
  {
   "cell_type": "markdown",
   "id": "medium-generation",
   "metadata": {},
   "source": [
    "## Vectorization Operations\n",
    "- makes looping over math so easy and fast!"
   ]
  },
  {
   "cell_type": "markdown",
   "id": "89f892da",
   "metadata": {},
   "source": [
    "### Add one to every element"
   ]
  },
  {
   "cell_type": "markdown",
   "id": "fab3567f",
   "metadata": {},
   "source": [
    "#### hard way: doing it in a list"
   ]
  },
  {
   "cell_type": "code",
   "execution_count": null,
   "id": "7977d3af",
   "metadata": {},
   "outputs": [],
   "source": []
  },
  {
   "cell_type": "code",
   "execution_count": null,
   "id": "d563a53a",
   "metadata": {},
   "outputs": [],
   "source": []
  },
  {
   "cell_type": "code",
   "execution_count": null,
   "id": "cd73dd09",
   "metadata": {},
   "outputs": [],
   "source": []
  },
  {
   "cell_type": "markdown",
   "id": "6aaed3f3",
   "metadata": {},
   "source": [
    "#### easy way: doing it with an array"
   ]
  },
  {
   "cell_type": "code",
   "execution_count": null,
   "id": "8bd6ca2f",
   "metadata": {},
   "outputs": [],
   "source": []
  },
  {
   "cell_type": "code",
   "execution_count": null,
   "id": "45f606ee",
   "metadata": {},
   "outputs": [],
   "source": []
  },
  {
   "cell_type": "markdown",
   "id": "dc17dec3",
   "metadata": {},
   "source": [
    "### more operations"
   ]
  },
  {
   "cell_type": "code",
   "execution_count": null,
   "id": "2fa032ef",
   "metadata": {},
   "outputs": [],
   "source": []
  },
  {
   "cell_type": "code",
   "execution_count": null,
   "id": "6c198079",
   "metadata": {},
   "outputs": [],
   "source": []
  },
  {
   "cell_type": "code",
   "execution_count": null,
   "id": "0187c400",
   "metadata": {},
   "outputs": [],
   "source": []
  },
  {
   "cell_type": "code",
   "execution_count": null,
   "id": "c6aba93b",
   "metadata": {},
   "outputs": [],
   "source": []
  },
  {
   "cell_type": "code",
   "execution_count": null,
   "id": "3403f126",
   "metadata": {},
   "outputs": [],
   "source": []
  },
  {
   "cell_type": "code",
   "execution_count": null,
   "id": "d30db028",
   "metadata": {},
   "outputs": [],
   "source": []
  },
  {
   "cell_type": "markdown",
   "id": "52db2ba4",
   "metadata": {},
   "source": [
    "### show us the speed"
   ]
  },
  {
   "cell_type": "code",
   "execution_count": null,
   "id": "6070b58e",
   "metadata": {},
   "outputs": [],
   "source": [
    "#make a really big array\n"
   ]
  },
  {
   "cell_type": "code",
   "execution_count": null,
   "id": "a8b1b023",
   "metadata": {},
   "outputs": [],
   "source": []
  },
  {
   "cell_type": "code",
   "execution_count": null,
   "id": "f6744326",
   "metadata": {},
   "outputs": [],
   "source": [
    "]"
   ]
  },
  {
   "cell_type": "code",
   "execution_count": null,
   "id": "7e06a9b3",
   "metadata": {},
   "outputs": [],
   "source": []
  },
  {
   "cell_type": "markdown",
   "id": "008f3ba9",
   "metadata": {},
   "source": [
    "## Numpy ways to create arrays"
   ]
  },
  {
   "cell_type": "markdown",
   "id": "7b00460e",
   "metadata": {},
   "source": [
    "#### full of zeros"
   ]
  },
  {
   "cell_type": "code",
   "execution_count": null,
   "id": "3edb3b80",
   "metadata": {},
   "outputs": [],
   "source": []
  },
  {
   "cell_type": "code",
   "execution_count": null,
   "id": "ea895219",
   "metadata": {},
   "outputs": [],
   "source": []
  },
  {
   "cell_type": "code",
   "execution_count": null,
   "id": "218e7089",
   "metadata": {},
   "outputs": [],
   "source": []
  },
  {
   "cell_type": "code",
   "execution_count": null,
   "id": "301b4ee1",
   "metadata": {},
   "outputs": [],
   "source": []
  },
  {
   "cell_type": "code",
   "execution_count": null,
   "id": "b52a71c7",
   "metadata": {},
   "outputs": [],
   "source": []
  },
  {
   "cell_type": "markdown",
   "id": "96027d7c",
   "metadata": {},
   "source": [
    "#### full of ones"
   ]
  },
  {
   "cell_type": "code",
   "execution_count": null,
   "id": "a875a9dd",
   "metadata": {},
   "outputs": [],
   "source": []
  },
  {
   "cell_type": "code",
   "execution_count": null,
   "id": "deedc29a",
   "metadata": {},
   "outputs": [],
   "source": []
  },
  {
   "cell_type": "markdown",
   "id": "e520429e",
   "metadata": {},
   "source": [
    "#### full of whatever you want "
   ]
  },
  {
   "cell_type": "code",
   "execution_count": null,
   "id": "5d1341a0",
   "metadata": {},
   "outputs": [],
   "source": []
  },
  {
   "cell_type": "code",
   "execution_count": null,
   "id": "6e800f3d",
   "metadata": {},
   "outputs": [],
   "source": []
  },
  {
   "cell_type": "code",
   "execution_count": null,
   "id": "9666832d",
   "metadata": {},
   "outputs": [],
   "source": []
  },
  {
   "cell_type": "code",
   "execution_count": null,
   "id": "b7608404",
   "metadata": {},
   "outputs": [],
   "source": []
  },
  {
   "cell_type": "code",
   "execution_count": null,
   "id": "666a1c8d",
   "metadata": {},
   "outputs": [],
   "source": []
  },
  {
   "cell_type": "markdown",
   "id": "7cad389d",
   "metadata": {},
   "source": [
    "#### a quicker way to make a range"
   ]
  },
  {
   "cell_type": "code",
   "execution_count": null,
   "id": "eee9dd7c",
   "metadata": {},
   "outputs": [],
   "source": []
  },
  {
   "cell_type": "code",
   "execution_count": null,
   "id": "5e2315b5",
   "metadata": {},
   "outputs": [],
   "source": []
  },
  {
   "cell_type": "code",
   "execution_count": null,
   "id": "a1b53149",
   "metadata": {},
   "outputs": [],
   "source": []
  },
  {
   "cell_type": "markdown",
   "id": "52dbba51",
   "metadata": {},
   "source": [
    "#### an array of random integers"
   ]
  },
  {
   "cell_type": "code",
   "execution_count": null,
   "id": "085b75a3",
   "metadata": {},
   "outputs": [],
   "source": []
  },
  {
   "cell_type": "code",
   "execution_count": null,
   "id": "4569a8cf",
   "metadata": {},
   "outputs": [],
   "source": []
  },
  {
   "cell_type": "code",
   "execution_count": null,
   "id": "ba0bc709",
   "metadata": {},
   "outputs": [],
   "source": []
  },
  {
   "cell_type": "markdown",
   "id": "df0a42da",
   "metadata": {},
   "source": [
    "#### an array of random numbers from the standard distribution"
   ]
  },
  {
   "cell_type": "code",
   "execution_count": null,
   "id": "3f636ce8",
   "metadata": {},
   "outputs": [],
   "source": []
  },
  {
   "cell_type": "code",
   "execution_count": null,
   "id": "92cfadb4",
   "metadata": {},
   "outputs": [],
   "source": []
  },
  {
   "cell_type": "code",
   "execution_count": null,
   "id": "6ff1115b",
   "metadata": {},
   "outputs": [],
   "source": []
  }
 ],
 "metadata": {
  "kernelspec": {
   "display_name": "Python 3 (ipykernel)",
   "language": "python",
   "name": "python3"
  },
  "language_info": {
   "codemirror_mode": {
    "name": "ipython",
    "version": 3
   },
   "file_extension": ".py",
   "mimetype": "text/x-python",
   "name": "python",
   "nbconvert_exporter": "python",
   "pygments_lexer": "ipython3",
   "version": "3.11.4"
  }
 },
 "nbformat": 4,
 "nbformat_minor": 5
}
